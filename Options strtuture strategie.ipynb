{
 "cells": [
  {
   "cell_type": "markdown",
   "metadata": {},
   "source": [
    "##### Esboço para a analise\n",
    "\n",
    "\n",
    "\n",
    "Utilizando modelo de black scholes e calculando a vol implicita de mercado minimizando a MQO ponderada temos"
   ]
  },
  {
   "cell_type": "markdown",
   "metadata": {},
   "source": [
    "A idéia então é minimizar o erro quadrático médio do mercado e encontrar essas duas váriaveis"
   ]
  },
  {
   "cell_type": "code",
   "execution_count": 3,
   "metadata": {},
   "outputs": [
    {
     "data": {
      "text/html": [
       "<div>\n",
       "<style scoped>\n",
       "    .dataframe tbody tr th:only-of-type {\n",
       "        vertical-align: middle;\n",
       "    }\n",
       "\n",
       "    .dataframe tbody tr th {\n",
       "        vertical-align: top;\n",
       "    }\n",
       "\n",
       "    .dataframe thead th {\n",
       "        text-align: right;\n",
       "    }\n",
       "</style>\n",
       "<table border=\"1\" class=\"dataframe\">\n",
       "  <thead>\n",
       "    <tr style=\"text-align: right;\">\n",
       "      <th></th>\n",
       "      <th>Under</th>\n",
       "      <th>Strike</th>\n",
       "      <th>Venc</th>\n",
       "      <th>Tipo</th>\n",
       "      <th>Preço</th>\n",
       "      <th>Volume</th>\n",
       "    </tr>\n",
       "  </thead>\n",
       "  <tbody>\n",
       "    <tr>\n",
       "      <th>0</th>\n",
       "      <td>AAAA3</td>\n",
       "      <td>25</td>\n",
       "      <td>365</td>\n",
       "      <td>Call</td>\n",
       "      <td>77.022029</td>\n",
       "      <td>260800</td>\n",
       "    </tr>\n",
       "    <tr>\n",
       "      <th>1</th>\n",
       "      <td>AAAA3</td>\n",
       "      <td>26</td>\n",
       "      <td>365</td>\n",
       "      <td>Call</td>\n",
       "      <td>77.556945</td>\n",
       "      <td>274000</td>\n",
       "    </tr>\n",
       "    <tr>\n",
       "      <th>2</th>\n",
       "      <td>AAAA3</td>\n",
       "      <td>27</td>\n",
       "      <td>365</td>\n",
       "      <td>Call</td>\n",
       "      <td>77.339647</td>\n",
       "      <td>282500</td>\n",
       "    </tr>\n",
       "    <tr>\n",
       "      <th>3</th>\n",
       "      <td>AAAA3</td>\n",
       "      <td>28</td>\n",
       "      <td>365</td>\n",
       "      <td>Call</td>\n",
       "      <td>74.264279</td>\n",
       "      <td>297700</td>\n",
       "    </tr>\n",
       "    <tr>\n",
       "      <th>4</th>\n",
       "      <td>AAAA3</td>\n",
       "      <td>29</td>\n",
       "      <td>365</td>\n",
       "      <td>Call</td>\n",
       "      <td>75.016137</td>\n",
       "      <td>302400</td>\n",
       "    </tr>\n",
       "    <tr>\n",
       "      <th>...</th>\n",
       "      <td>...</td>\n",
       "      <td>...</td>\n",
       "      <td>...</td>\n",
       "      <td>...</td>\n",
       "      <td>...</td>\n",
       "      <td>...</td>\n",
       "    </tr>\n",
       "    <tr>\n",
       "      <th>145</th>\n",
       "      <td>AAAA3</td>\n",
       "      <td>170</td>\n",
       "      <td>365</td>\n",
       "      <td>Call</td>\n",
       "      <td>0.589886</td>\n",
       "      <td>298500</td>\n",
       "    </tr>\n",
       "    <tr>\n",
       "      <th>146</th>\n",
       "      <td>AAAA3</td>\n",
       "      <td>171</td>\n",
       "      <td>365</td>\n",
       "      <td>Call</td>\n",
       "      <td>2.364003</td>\n",
       "      <td>292400</td>\n",
       "    </tr>\n",
       "    <tr>\n",
       "      <th>147</th>\n",
       "      <td>AAAA3</td>\n",
       "      <td>172</td>\n",
       "      <td>365</td>\n",
       "      <td>Call</td>\n",
       "      <td>0.120545</td>\n",
       "      <td>281300</td>\n",
       "    </tr>\n",
       "    <tr>\n",
       "      <th>148</th>\n",
       "      <td>AAAA3</td>\n",
       "      <td>173</td>\n",
       "      <td>365</td>\n",
       "      <td>Call</td>\n",
       "      <td>1.111372</td>\n",
       "      <td>282300</td>\n",
       "    </tr>\n",
       "    <tr>\n",
       "      <th>149</th>\n",
       "      <td>AAAA3</td>\n",
       "      <td>174</td>\n",
       "      <td>365</td>\n",
       "      <td>Call</td>\n",
       "      <td>1.900671</td>\n",
       "      <td>271500</td>\n",
       "    </tr>\n",
       "  </tbody>\n",
       "</table>\n",
       "<p>150 rows × 6 columns</p>\n",
       "</div>"
      ],
      "text/plain": [
       "     Under  Strike  Venc  Tipo      Preço  Volume\n",
       "0    AAAA3      25   365  Call  77.022029  260800\n",
       "1    AAAA3      26   365  Call  77.556945  274000\n",
       "2    AAAA3      27   365  Call  77.339647  282500\n",
       "3    AAAA3      28   365  Call  74.264279  297700\n",
       "4    AAAA3      29   365  Call  75.016137  302400\n",
       "..     ...     ...   ...   ...        ...     ...\n",
       "145  AAAA3     170   365  Call   0.589886  298500\n",
       "146  AAAA3     171   365  Call   2.364003  292400\n",
       "147  AAAA3     172   365  Call   0.120545  281300\n",
       "148  AAAA3     173   365  Call   1.111372  282300\n",
       "149  AAAA3     174   365  Call   1.900671  271500\n",
       "\n",
       "[150 rows x 6 columns]"
      ]
     },
     "execution_count": 3,
     "metadata": {},
     "output_type": "execute_result"
    }
   ],
   "source": [
    "import matplotlib.pyplot as plt\n",
    "from matplotlib import ticker\n",
    "import numpy as np\n",
    "import os\n",
    "import pandas as pd\n",
    "import requests\n",
    "import seaborn as sns\n",
    "import sys\n",
    "import warnings\n",
    "import yfinance as yf\n",
    "from scipy import stats\n",
    "\n",
    "#Black Scholes option call precification\n",
    "def black_scholes_call(S, K, T, r, sigma):\n",
    "    '''black_scholes_call(S, K, T, r, sigma)\n",
    "    S: spot price\n",
    "    K: strike price\n",
    "    T: time to maturity\n",
    "    r: interest rate\n",
    "    sigma: volatility of underlying asset\n",
    "    '''\n",
    "    d1 = (np.log(S / K) + (r + sigma ** 2 / 2) * T) / (sigma * np.sqrt(T))\n",
    "    d2 = d1 - sigma * np.sqrt(T)\n",
    "    call = (S * stats.norm.cdf(d1, 0.0, 1.0) - K * np.exp(-r * T) * stats.norm.cdf(d2, 0.0, 1.0))\n",
    "\n",
    "    if T < 1/250:\n",
    "        call = S - K\n",
    "        call = np.where(call < 0, 0, call)\n",
    "    return call\n",
    "\n",
    "\n",
    "#Black Scholes option greek delta\n",
    "def bs_call_delta(S,K,T,r,sigma):\n",
    "    '''bs_call_delta(S,K,T,r,sigma)\n",
    "    S: spot price\n",
    "    K: strike price\n",
    "    T: time to maturity\n",
    "    r: interest rate\n",
    "    sigma: volatility of underlying asset\n",
    "    '''\n",
    "    d1 = (np.log(S / K) + (r + sigma ** 2 / 2) * T) / (sigma * np.sqrt(T))\n",
    "    delta = stats.norm.cdf(d1, 0.0, 1.0)\n",
    "    return delta\n",
    "\n",
    "\n",
    "### abrrir o arquivo  options.csv\n",
    "\n",
    "opcs = pd.read_csv('opcs.csv', encoding='ANSI')\n",
    "opcs\n"
   ]
  },
  {
   "cell_type": "code",
   "execution_count": 4,
   "metadata": {},
   "outputs": [
    {
     "name": "stderr",
     "output_type": "stream",
     "text": [
      "c:\\Users\\diogo\\AppData\\Local\\Programs\\Python\\Python310\\lib\\site-packages\\seaborn\\_decorators.py:36: FutureWarning: Pass the following variables as keyword args: x, y. From version 0.12, the only valid positional argument will be `data`, and passing other arguments without an explicit keyword will result in an error or misinterpretation.\n",
      "  warnings.warn(\n"
     ]
    },
    {
     "data": {
      "text/plain": [
       "<AxesSubplot:>"
      ]
     },
     "execution_count": 4,
     "metadata": {},
     "output_type": "execute_result"
    },
    {
     "data": {
      "image/png": "[encoded data removed]",
      "text/plain": [
       "<Figure size 432x288 with 1 Axes>"
      ]
     },
     "metadata": {
      "needs_background": "light"
     },
     "output_type": "display_data"
    }
   ],
   "source": [
    "\n",
    "from scipy.optimize import minimize\n",
    "\n",
    "\n",
    "teste = opcs.sample(150)\n",
    "\n",
    "X = teste['Strike'].values\n",
    "Y = teste['Preço'].values\n",
    "weight = teste['Volume'].values / teste['Volume'].sum()\n",
    "\n",
    "\n",
    "price = 100\n",
    "r = 0.12\n",
    "maturity = 1\n",
    "\n",
    "\n",
    "\n",
    "def error(params):\n",
    "    sigma, add_price = params\n",
    "    call_modelo = black_scholes_call(price+add_price,teste['Strike'].values, maturity, r, sigma)\n",
    "    mqo = (Y - call_modelo)**2\n",
    "    mqo = (mqo * weight).mean()\n",
    "\n",
    "    return mqo\n",
    "\n",
    "targuet = [.9,0.0]\n",
    "\n",
    "resultado = minimize(error, targuet, method='Nelder-Mead')\n",
    "sigma, add_price = resultado.x\n",
    "\n",
    "## Teste\n",
    "\n",
    "X = opcs['Strike'].values\n",
    "Y = opcs['Preço'].values\n",
    "\n",
    "call_modelo = black_scholes_call(price+add_price, X, maturity, r, sigma)\n",
    "\n",
    "plt.plot(X, call_modelo, label='modelo')\n",
    "sns.scatterplot(X, Y, label='call price', linewidth=0, alpha=0.5, color='red')\n",
    "\n",
    "\n"
   ]
  },
  {
   "cell_type": "code",
   "execution_count": 38,
   "metadata": {},
   "outputs": [
    {
     "name": "stderr",
     "output_type": "stream",
     "text": [
      "C:\\Users\\diogo\\AppData\\Local\\Temp\\ipykernel_15388\\3732379361.py:12: SettingWithCopyWarning: \n",
      "A value is trying to be set on a copy of a slice from a DataFrame\n",
      "\n",
      "See the caveats in the documentation: https://pandas.pydata.org/pandas-docs/stable/user_guide/indexing.html#returning-a-view-versus-a-copy\n",
      "  opcs['Weight'][opcs['Weight']<0] = opcs['Weight'][opcs['Weight']<0]*abs(soma_positiva/soma_negativa)\n"
     ]
    }
   ],
   "source": [
    "opcs['Black-Scholes'] = call_modelo\n",
    "opcs['Delta'] = bs_call_delta(price, opcs['Strike'], opcs['Venc']/365, 0.12, sigma)\n",
    "opcs['Weight'] = np.random.normal(0, 1, size = len(opcs))**2\n",
    "opcs['Weight'] = ((opcs['Black-Scholes']<opcs['Preço'])*2-1) * abs(opcs['Black-Scholes'] - opcs['Weight'])\n",
    "\n",
    "opcs['Weight'] = opcs['Weight']/sum(opcs['Weight'].abs())\n",
    "\n",
    "soma_positiva = opcs['Weight'][opcs['Weight']>0].sum()\n",
    "soma_negativa = opcs['Weight'][opcs['Weight']<0].sum()\n",
    "\n",
    "\n",
    "opcs['Weight'][opcs['Weight']<0] = opcs['Weight'][opcs['Weight']<0]*abs(soma_positiva/soma_negativa)\n"
   ]
  },
  {
   "cell_type": "code",
   "execution_count": 42,
   "metadata": {},
   "outputs": [
    {
     "name": "stderr",
     "output_type": "stream",
     "text": [
      "C:\\Users\\diogo\\AppData\\Local\\Temp\\ipykernel_15388\\646385672.py:22: RuntimeWarning: invalid value encountered in sqrt\n",
      "  d1 = (np.log(S / K) + (r + sigma ** 2 / 2) * T) / (sigma * np.sqrt(T))\n",
      "C:\\Users\\diogo\\AppData\\Local\\Temp\\ipykernel_15388\\646385672.py:23: RuntimeWarning: invalid value encountered in sqrt\n",
      "  d2 = d1 - sigma * np.sqrt(T)\n",
      "C:\\Users\\diogo\\AppData\\Local\\Temp\\ipykernel_15388\\646385672.py:41: RuntimeWarning: invalid value encountered in sqrt\n",
      "  d1 = (np.log(S / K) + (r + sigma ** 2 / 2) * T) / (sigma * np.sqrt(T))\n"
     ]
    },
    {
     "data": {
      "text/plain": [
       "[<matplotlib.lines.Line2D at 0x1d517207ee0>]"
      ]
     },
     "execution_count": 42,
     "metadata": {},
     "output_type": "execute_result"
    },
    {
     "data": {
      "image/png": "[encoded data removed]",
      "text/plain": [
       "<Figure size 432x288 with 1 Axes>"
      ]
     },
     "metadata": {
      "needs_background": "light"
     },
     "output_type": "display_data"
    }
   ],
   "source": [
    "#Criando o passeio aleatório para o ativo ficticio AAAA3\n",
    "\n",
    "cota = np.random.normal(1, 0.0094, 365).cumprod()\n",
    "cota = cota*100/cota[0]\n",
    "\n",
    "carteira = pd.DataFrame(cota, columns=['AAAA3'])\n",
    "\n",
    "\n",
    "for i,spot in enumerate(cota) :\n",
    "    px_carteira = black_scholes_call(spot, opcs['Strike'], (maturity-i)/365, r, sigma)\n",
    "    px_carteira = (px_carteira - opcs['Preço']) * opcs['Weight']\n",
    "    payoff = px_carteira.sum()\n",
    "    \n",
    "    delta_carteira = bs_call_delta(spot, opcs['Strike'], (maturity-i)/365, r, sigma)\n",
    "    delta_carteira = delta_carteira * opcs['Weight']\n",
    "    exposicao = delta_carteira.sum()\n",
    "\n",
    "    carteira.loc[i,'Payoff'] = payoff\n",
    "    carteira.loc[i,'Exposicao'] = exposicao\n",
    "\n",
    "plt.plot(carteira['Payoff'])\n",
    "\n",
    "\n",
    "\n"
   ]
  },
  {
   "cell_type": "code",
   "execution_count": 43,
   "metadata": {},
   "outputs": [
    {
     "data": {
      "text/plain": [
       "[<matplotlib.lines.Line2D at 0x1d51726e770>]"
      ]
     },
     "execution_count": 43,
     "metadata": {},
     "output_type": "execute_result"
    },
    {
     "data": {
      "image/png": "[encoded data removed]",
      "text/plain": [
       "<Figure size 432x288 with 1 Axes>"
      ]
     },
     "metadata": {
      "needs_background": "light"
     },
     "output_type": "display_data"
    }
   ],
   "source": [
    "plt.plot(cota)"
   ]
  }
 ],
 "metadata": {
  "kernelspec": {
   "display_name": "Python 3",
   "language": "python",
   "name": "python3"
  },
  "language_info": {
   "codemirror_mode": {
    "name": "ipython",
    "version": 3
   },
   "file_extension": ".py",
   "mimetype": "text/x-python",
   "name": "python",
   "nbconvert_exporter": "python",
   "pygments_lexer": "ipython3",
   "version": "3.10.3"
  },
  "orig_nbformat": 4
 },
 "nbformat": 4,
 "nbformat_minor": 2
}
